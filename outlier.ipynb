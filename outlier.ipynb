{
  "cells": [
    {
      "cell_type": "markdown",
      "metadata": {
        "id": "955dGA7yFSzY"
      },
      "source": [
        "# 이상값 처리하기"
      ]
    },
    {
      "cell_type": "markdown",
      "metadata": {
        "id": "dQPFteMhKVE9"
      },
      "source": [
        "## Iris 데이터 받기"
      ]
    },
    {
      "cell_type": "code",
      "execution_count": 2,
      "metadata": {
        "colab": {
          "base_uri": "https://localhost:8080/",
          "height": 424
        },
        "id": "6GPCpueqFSze",
        "outputId": "256bbfd0-969d-44db-8bf1-01313c5a87ef"
      },
      "outputs": [
        {
          "data": {
            "text/html": [
              "<div>\n",
              "<style scoped>\n",
              "    .dataframe tbody tr th:only-of-type {\n",
              "        vertical-align: middle;\n",
              "    }\n",
              "\n",
              "    .dataframe tbody tr th {\n",
              "        vertical-align: top;\n",
              "    }\n",
              "\n",
              "    .dataframe thead th {\n",
              "        text-align: right;\n",
              "    }\n",
              "</style>\n",
              "<table border=\"1\" class=\"dataframe\">\n",
              "  <thead>\n",
              "    <tr style=\"text-align: right;\">\n",
              "      <th></th>\n",
              "      <th>꽃받침길이</th>\n",
              "      <th>꽃받침너비</th>\n",
              "      <th>꽃잎길이</th>\n",
              "      <th>꽃잎너비</th>\n",
              "      <th>붓꽃종류</th>\n",
              "    </tr>\n",
              "  </thead>\n",
              "  <tbody>\n",
              "    <tr>\n",
              "      <th>0</th>\n",
              "      <td>5.1</td>\n",
              "      <td>3.5</td>\n",
              "      <td>1.4</td>\n",
              "      <td>0.2</td>\n",
              "      <td>Iris-setosa</td>\n",
              "    </tr>\n",
              "    <tr>\n",
              "      <th>1</th>\n",
              "      <td>4.9</td>\n",
              "      <td>3.0</td>\n",
              "      <td>1.4</td>\n",
              "      <td>0.2</td>\n",
              "      <td>Iris-setosa</td>\n",
              "    </tr>\n",
              "    <tr>\n",
              "      <th>2</th>\n",
              "      <td>4.7</td>\n",
              "      <td>3.2</td>\n",
              "      <td>1.3</td>\n",
              "      <td>0.2</td>\n",
              "      <td>Iris-setosa</td>\n",
              "    </tr>\n",
              "    <tr>\n",
              "      <th>3</th>\n",
              "      <td>4.6</td>\n",
              "      <td>3.1</td>\n",
              "      <td>1.5</td>\n",
              "      <td>0.2</td>\n",
              "      <td>Iris-setosa</td>\n",
              "    </tr>\n",
              "    <tr>\n",
              "      <th>4</th>\n",
              "      <td>5.0</td>\n",
              "      <td>3.6</td>\n",
              "      <td>1.4</td>\n",
              "      <td>0.2</td>\n",
              "      <td>Iris-setosa</td>\n",
              "    </tr>\n",
              "    <tr>\n",
              "      <th>...</th>\n",
              "      <td>...</td>\n",
              "      <td>...</td>\n",
              "      <td>...</td>\n",
              "      <td>...</td>\n",
              "      <td>...</td>\n",
              "    </tr>\n",
              "    <tr>\n",
              "      <th>145</th>\n",
              "      <td>6.7</td>\n",
              "      <td>3.0</td>\n",
              "      <td>5.2</td>\n",
              "      <td>2.3</td>\n",
              "      <td>Iris-virginica</td>\n",
              "    </tr>\n",
              "    <tr>\n",
              "      <th>146</th>\n",
              "      <td>6.3</td>\n",
              "      <td>2.5</td>\n",
              "      <td>5.0</td>\n",
              "      <td>1.9</td>\n",
              "      <td>Iris-virginica</td>\n",
              "    </tr>\n",
              "    <tr>\n",
              "      <th>147</th>\n",
              "      <td>6.5</td>\n",
              "      <td>3.0</td>\n",
              "      <td>5.2</td>\n",
              "      <td>2.0</td>\n",
              "      <td>Iris-virginica</td>\n",
              "    </tr>\n",
              "    <tr>\n",
              "      <th>148</th>\n",
              "      <td>6.2</td>\n",
              "      <td>3.4</td>\n",
              "      <td>5.4</td>\n",
              "      <td>2.3</td>\n",
              "      <td>Iris-virginica</td>\n",
              "    </tr>\n",
              "    <tr>\n",
              "      <th>149</th>\n",
              "      <td>5.9</td>\n",
              "      <td>3.0</td>\n",
              "      <td>5.1</td>\n",
              "      <td>1.8</td>\n",
              "      <td>Iris-virginica</td>\n",
              "    </tr>\n",
              "  </tbody>\n",
              "</table>\n",
              "<p>150 rows × 5 columns</p>\n",
              "</div>"
            ],
            "text/plain": [
              "     꽃받침길이  꽃받침너비  꽃잎길이  꽃잎너비            붓꽃종류\n",
              "0      5.1    3.5   1.4   0.2     Iris-setosa\n",
              "1      4.9    3.0   1.4   0.2     Iris-setosa\n",
              "2      4.7    3.2   1.3   0.2     Iris-setosa\n",
              "3      4.6    3.1   1.5   0.2     Iris-setosa\n",
              "4      5.0    3.6   1.4   0.2     Iris-setosa\n",
              "..     ...    ...   ...   ...             ...\n",
              "145    6.7    3.0   5.2   2.3  Iris-virginica\n",
              "146    6.3    2.5   5.0   1.9  Iris-virginica\n",
              "147    6.5    3.0   5.2   2.0  Iris-virginica\n",
              "148    6.2    3.4   5.4   2.3  Iris-virginica\n",
              "149    5.9    3.0   5.1   1.8  Iris-virginica\n",
              "\n",
              "[150 rows x 5 columns]"
            ]
          },
          "execution_count": 2,
          "metadata": {},
          "output_type": "execute_result"
        }
      ],
      "source": [
        "import pandas as pd    # pandas package import\n",
        "\n",
        "# 데이터프레임의 컬럼명 지정\n",
        "\n",
        "col = [\"꽃받침길이\", \"꽃받침너비\", \"꽃잎길이\", \"꽃잎너비\", \"붓꽃종류\"]\n",
        "\n",
        "# 웹에 있는 CSV 파일 읽어와서 데이터프레임 df로 넣는다.\n",
        "\n",
        "df = pd.read_csv(\"https://archive.ics.uci.edu/ml/machine-learning-databases/iris/iris.data\", names = col)\n",
        "\n",
        "df"
      ]
    },
    {
      "cell_type": "markdown",
      "metadata": {
        "id": "Zw37izWSFSzg"
      },
      "source": [
        "- 이상값 강제 삽입"
      ]
    },
    {
      "cell_type": "code",
      "execution_count": 3,
      "metadata": {
        "id": "x-AlKCS2FSzh",
        "outputId": "479beafc-5ca9-4d42-cd0d-b4e9caef9112"
      },
      "outputs": [],
      "source": [
        "df.iloc[0,0] = 50\n",
        "df.iloc[1,0] = 55\n",
        "df.iloc[0,1] = 40\n",
        "df.iloc[1,1] = 100\n"
      ]
    },
    {
      "cell_type": "code",
      "execution_count": 5,
      "metadata": {},
      "outputs": [
        {
          "data": {
            "text/html": [
              "<div>\n",
              "<style scoped>\n",
              "    .dataframe tbody tr th:only-of-type {\n",
              "        vertical-align: middle;\n",
              "    }\n",
              "\n",
              "    .dataframe tbody tr th {\n",
              "        vertical-align: top;\n",
              "    }\n",
              "\n",
              "    .dataframe thead th {\n",
              "        text-align: right;\n",
              "    }\n",
              "</style>\n",
              "<table border=\"1\" class=\"dataframe\">\n",
              "  <thead>\n",
              "    <tr style=\"text-align: right;\">\n",
              "      <th></th>\n",
              "      <th>꽃받침길이</th>\n",
              "      <th>꽃받침너비</th>\n",
              "      <th>꽃잎길이</th>\n",
              "      <th>꽃잎너비</th>\n",
              "      <th>붓꽃종류</th>\n",
              "    </tr>\n",
              "  </thead>\n",
              "  <tbody>\n",
              "    <tr>\n",
              "      <th>0</th>\n",
              "      <td>50.0</td>\n",
              "      <td>40.0</td>\n",
              "      <td>1.4</td>\n",
              "      <td>0.2</td>\n",
              "      <td>Iris-setosa</td>\n",
              "    </tr>\n",
              "    <tr>\n",
              "      <th>1</th>\n",
              "      <td>55.0</td>\n",
              "      <td>100.0</td>\n",
              "      <td>1.4</td>\n",
              "      <td>0.2</td>\n",
              "      <td>Iris-setosa</td>\n",
              "    </tr>\n",
              "    <tr>\n",
              "      <th>2</th>\n",
              "      <td>4.7</td>\n",
              "      <td>3.2</td>\n",
              "      <td>1.3</td>\n",
              "      <td>0.2</td>\n",
              "      <td>Iris-setosa</td>\n",
              "    </tr>\n",
              "    <tr>\n",
              "      <th>3</th>\n",
              "      <td>4.6</td>\n",
              "      <td>3.1</td>\n",
              "      <td>1.5</td>\n",
              "      <td>0.2</td>\n",
              "      <td>Iris-setosa</td>\n",
              "    </tr>\n",
              "    <tr>\n",
              "      <th>4</th>\n",
              "      <td>5.0</td>\n",
              "      <td>3.6</td>\n",
              "      <td>1.4</td>\n",
              "      <td>0.2</td>\n",
              "      <td>Iris-setosa</td>\n",
              "    </tr>\n",
              "    <tr>\n",
              "      <th>...</th>\n",
              "      <td>...</td>\n",
              "      <td>...</td>\n",
              "      <td>...</td>\n",
              "      <td>...</td>\n",
              "      <td>...</td>\n",
              "    </tr>\n",
              "    <tr>\n",
              "      <th>145</th>\n",
              "      <td>6.7</td>\n",
              "      <td>3.0</td>\n",
              "      <td>5.2</td>\n",
              "      <td>2.3</td>\n",
              "      <td>Iris-virginica</td>\n",
              "    </tr>\n",
              "    <tr>\n",
              "      <th>146</th>\n",
              "      <td>6.3</td>\n",
              "      <td>2.5</td>\n",
              "      <td>5.0</td>\n",
              "      <td>1.9</td>\n",
              "      <td>Iris-virginica</td>\n",
              "    </tr>\n",
              "    <tr>\n",
              "      <th>147</th>\n",
              "      <td>6.5</td>\n",
              "      <td>3.0</td>\n",
              "      <td>5.2</td>\n",
              "      <td>2.0</td>\n",
              "      <td>Iris-virginica</td>\n",
              "    </tr>\n",
              "    <tr>\n",
              "      <th>148</th>\n",
              "      <td>6.2</td>\n",
              "      <td>3.4</td>\n",
              "      <td>5.4</td>\n",
              "      <td>2.3</td>\n",
              "      <td>Iris-virginica</td>\n",
              "    </tr>\n",
              "    <tr>\n",
              "      <th>149</th>\n",
              "      <td>5.9</td>\n",
              "      <td>3.0</td>\n",
              "      <td>5.1</td>\n",
              "      <td>1.8</td>\n",
              "      <td>Iris-virginica</td>\n",
              "    </tr>\n",
              "  </tbody>\n",
              "</table>\n",
              "<p>150 rows × 5 columns</p>\n",
              "</div>"
            ],
            "text/plain": [
              "     꽃받침길이  꽃받침너비  꽃잎길이  꽃잎너비            붓꽃종류\n",
              "0     50.0   40.0   1.4   0.2     Iris-setosa\n",
              "1     55.0  100.0   1.4   0.2     Iris-setosa\n",
              "2      4.7    3.2   1.3   0.2     Iris-setosa\n",
              "3      4.6    3.1   1.5   0.2     Iris-setosa\n",
              "4      5.0    3.6   1.4   0.2     Iris-setosa\n",
              "..     ...    ...   ...   ...             ...\n",
              "145    6.7    3.0   5.2   2.3  Iris-virginica\n",
              "146    6.3    2.5   5.0   1.9  Iris-virginica\n",
              "147    6.5    3.0   5.2   2.0  Iris-virginica\n",
              "148    6.2    3.4   5.4   2.3  Iris-virginica\n",
              "149    5.9    3.0   5.1   1.8  Iris-virginica\n",
              "\n",
              "[150 rows x 5 columns]"
            ]
          },
          "execution_count": 5,
          "metadata": {},
          "output_type": "execute_result"
        }
      ],
      "source": [
        "df  # 이상갑이 삽입된 데이터셋 확인하기"
      ]
    },
    {
      "cell_type": "markdown",
      "metadata": {},
      "source": [
        "## IQR Rule for Outliers (Interquartile Range) 기법"
      ]
    },
    {
      "cell_type": "markdown",
      "metadata": {},
      "source": [
        "### 꽃받침길이에 관한 이상치 탐지"
      ]
    },
    {
      "cell_type": "code",
      "execution_count": 28,
      "metadata": {},
      "outputs": [
        {
          "data": {
            "text/plain": [
              "0      50.0\n",
              "1      55.0\n",
              "2       4.7\n",
              "3       4.6\n",
              "4       5.0\n",
              "       ... \n",
              "145     6.7\n",
              "146     6.3\n",
              "147     6.5\n",
              "148     6.2\n",
              "149     5.9\n",
              "Name: 꽃받침길이, Length: 150, dtype: float64"
            ]
          },
          "execution_count": 28,
          "metadata": {},
          "output_type": "execute_result"
        }
      ],
      "source": [
        "df1 = df[\"꽃받침길이\"]   # 꽃받침길이 열만 떼어내어 df1에 저장하기\n",
        "df1"
      ]
    },
    {
      "cell_type": "code",
      "execution_count": 29,
      "metadata": {},
      "outputs": [
        {
          "name": "stdout",
          "output_type": "stream",
          "text": [
            "1사분위지점:  5.1\n",
            "3사분위지점:  6.4\n"
          ]
        }
      ],
      "source": [
        "# 4분위 수 정하기\n",
        "\n",
        "q1 = df1.quantile(0.25)    # 1사분위 지점\n",
        "q3 = df1.quantile(0.75)     # 3사분위 지점\n",
        "\n",
        "print(\"1사분위지점: \", q1)\n",
        "print(\"3사분위지점: \",q3)"
      ]
    },
    {
      "cell_type": "code",
      "execution_count": 30,
      "metadata": {},
      "outputs": [
        {
          "name": "stdout",
          "output_type": "stream",
          "text": [
            "1.3000000000000007\n"
          ]
        }
      ],
      "source": [
        "# IQR 계산하기\n",
        "\n",
        "iqr = q3 - q1\n",
        "print(iqr)"
      ]
    },
    {
      "cell_type": "code",
      "execution_count": 70,
      "metadata": {},
      "outputs": [
        {
          "name": "stdout",
          "output_type": "stream",
          "text": [
            "lower:  2.05\n",
            "upeer:  4.05\n"
          ]
        }
      ],
      "source": [
        "# 상한값, 하한값 계산\n",
        "\n",
        "lower = q1 - 1.5*iqr\n",
        "upper = q3 + 1.5*iqr\n",
        "\n",
        "print(\"lower: \",lower)\n",
        "print(\"upeer: \",upper)"
      ]
    },
    {
      "cell_type": "code",
      "execution_count": 71,
      "metadata": {},
      "outputs": [],
      "source": [
        "# 상한값, 하한값을 벗어나는 데이터의 인덱스 값 계산\n",
        "\n",
        "condition = (df1 > upper) | (df1 < lower)      # df1이 upper 보다 크거나, df1이 lower 보다 작은 데이터가 있는 경우 해당행에 True를 저장"
      ]
    },
    {
      "cell_type": "code",
      "execution_count": 72,
      "metadata": {},
      "outputs": [
        {
          "name": "stdout",
          "output_type": "stream",
          "text": [
            "이상치가 있는 index:  [ 0  1 15 32 33 60]\n"
          ]
        }
      ],
      "source": [
        "outlier_index = df1.loc[condition].index.values   # 조건에 맞는 index 값을 가지고 옴\n",
        "print(\"이상치가 있는 index: \",outlier_index)    # 이상값이 있는 index값을 출력"
      ]
    },
    {
      "cell_type": "markdown",
      "metadata": {},
      "source": [
        "### 꽃받침너비에 관한 이상치 탐지"
      ]
    },
    {
      "cell_type": "code",
      "execution_count": 73,
      "metadata": {},
      "outputs": [
        {
          "name": "stdout",
          "output_type": "stream",
          "text": [
            "1사분위지점:  2.8\n",
            "3사분위지점:  3.3\n",
            "0.5\n",
            "lower:  2.05\n",
            "upeer:  4.05\n",
            "이상치가 있는 index:  [ 0  1 15 32 33 60]\n"
          ]
        }
      ],
      "source": [
        "df1 = df[\"꽃받침너비\"]\n",
        "\n",
        "q1 = df1.quantile(0.25)    # 1사분위 지점\n",
        "q3 = df1.quantile(0.75)     # 3사분위 지점\n",
        "\n",
        "print(\"1사분위지점: \", q1)\n",
        "print(\"3사분위지점: \",q3)\n",
        "\n",
        "iqr = q3 - q1\n",
        "print(iqr)\n",
        "\n",
        "\n",
        "lower = q1 - 1.5*iqr\n",
        "upper = q3 + 1.5*iqr\n",
        "\n",
        "print(\"lower: \",lower)\n",
        "print(\"upeer: \",upper)\n",
        "\n",
        "condition = (df1 > upper) | (df1 < lower)      # df1이 upper 보다 크거나, df1이 lower 보다 작은 데이터가 있는 경우 해당행에 True를 저장\n",
        "outlier_index = df1.loc[condition].index.values   # 조건에 맞는 index 값을 가지고 옴\n",
        "print(\"이상치가 있는 index: \",outlier_index)     # 이상값이 있는 index값을 출력\n"
      ]
    },
    {
      "cell_type": "code",
      "execution_count": 77,
      "metadata": {},
      "outputs": [
        {
          "data": {
            "text/plain": [
              "0      40.0\n",
              "1     100.0\n",
              "15      4.4\n",
              "32      4.1\n",
              "33      4.2\n",
              "60      2.0\n",
              "Name: 꽃받침너비, dtype: float64"
            ]
          },
          "execution_count": 77,
          "metadata": {},
          "output_type": "execute_result"
        }
      ],
      "source": [
        "df1[outlier_index]    # 이상치가 있는 행 출력해 보기"
      ]
    },
    {
      "cell_type": "markdown",
      "metadata": {},
      "source": [
        "## 전체 열에 이상치 탐색하기"
      ]
    },
    {
      "cell_type": "markdown",
      "metadata": {},
      "source": [
        "- df frame 전체 열을 대상으로 이상치를 탐색한다."
      ]
    },
    {
      "cell_type": "code",
      "execution_count": 80,
      "metadata": {},
      "outputs": [
        {
          "name": "stdout",
          "output_type": "stream",
          "text": [
            "꽃받침길이    5.1\n",
            "꽃받침너비    2.8\n",
            "꽃잎길이     1.6\n",
            "꽃잎너비     0.3\n",
            "Name: 0.25, dtype: float64\n",
            "꽃받침길이    6.4\n",
            "꽃받침너비    3.3\n",
            "꽃잎길이     5.1\n",
            "꽃잎너비     1.8\n",
            "Name: 0.75, dtype: float64\n"
          ]
        }
      ],
      "source": [
        "Q1 = df.quantile(0.25)    # 1사분위 지점\n",
        "Q3 = df.quantile(0.75)     # 3사분위 지점\n",
        "\n",
        "print(Q1)\n",
        "print(Q3)"
      ]
    },
    {
      "cell_type": "code",
      "execution_count": 81,
      "metadata": {},
      "outputs": [
        {
          "name": "stdout",
          "output_type": "stream",
          "text": [
            "꽃받침길이    1.3\n",
            "꽃받침너비    0.5\n",
            "꽃잎길이     3.5\n",
            "꽃잎너비     1.5\n",
            "dtype: float64\n"
          ]
        }
      ],
      "source": [
        "IQR = Q3 - Q1   # 전체 열에 대해서 수행이 된다.\n",
        "print(IQR)"
      ]
    },
    {
      "cell_type": "markdown",
      "metadata": {},
      "source": []
    },
    {
      "cell_type": "code",
      "execution_count": 82,
      "metadata": {},
      "outputs": [
        {
          "name": "stdout",
          "output_type": "stream",
          "text": [
            "lower:  꽃받침길이    3.15\n",
            "꽃받침너비    2.05\n",
            "꽃잎길이    -3.65\n",
            "꽃잎너비    -1.95\n",
            "dtype: float64\n",
            "upeer:  꽃받침길이     8.35\n",
            "꽃받침너비     4.05\n",
            "꽃잎길이     10.35\n",
            "꽃잎너비      4.05\n",
            "dtype: float64\n"
          ]
        }
      ],
      "source": [
        "lower = Q1 - 1.5*IQR\n",
        "upper = Q3 + 1.5*IQR\n",
        "\n",
        "print(\"lower: \",lower)\n",
        "print(\"upeer: \",upper)"
      ]
    },
    {
      "cell_type": "code",
      "execution_count": 83,
      "metadata": {},
      "outputs": [
        {
          "name": "stderr",
          "output_type": "stream",
          "text": [
            "C:\\Users\\cukuser\\AppData\\Local\\Temp/ipykernel_16756/1642520624.py:1: FutureWarning: Automatic reindexing on DataFrame vs Series comparisons is deprecated and will raise ValueError in a future version.  Do `left, right = left.align(right, axis=1, copy=False)` before e.g. `left == right`\n",
            "  condition = (df > upper) | (df < lower)      # df가 upper 보다 크거나, df가 lower 보다 작은 데이터가 있는 경우 해당행에 True를 저장\n",
            "C:\\Users\\cukuser\\AppData\\Local\\Temp/ipykernel_16756/1642520624.py:1: FutureWarning: Automatic reindexing on DataFrame vs Series comparisons is deprecated and will raise ValueError in a future version.  Do `left, right = left.align(right, axis=1, copy=False)` before e.g. `left == right`\n",
            "  condition = (df > upper) | (df < lower)      # df가 upper 보다 크거나, df가 lower 보다 작은 데이터가 있는 경우 해당행에 True를 저장\n"
          ]
        },
        {
          "data": {
            "text/html": [
              "<div>\n",
              "<style scoped>\n",
              "    .dataframe tbody tr th:only-of-type {\n",
              "        vertical-align: middle;\n",
              "    }\n",
              "\n",
              "    .dataframe tbody tr th {\n",
              "        vertical-align: top;\n",
              "    }\n",
              "\n",
              "    .dataframe thead th {\n",
              "        text-align: right;\n",
              "    }\n",
              "</style>\n",
              "<table border=\"1\" class=\"dataframe\">\n",
              "  <thead>\n",
              "    <tr style=\"text-align: right;\">\n",
              "      <th></th>\n",
              "      <th>꽃받침길이</th>\n",
              "      <th>꽃받침너비</th>\n",
              "      <th>꽃잎길이</th>\n",
              "      <th>꽃잎너비</th>\n",
              "      <th>붓꽃종류</th>\n",
              "    </tr>\n",
              "  </thead>\n",
              "  <tbody>\n",
              "    <tr>\n",
              "      <th>0</th>\n",
              "      <td>50.0</td>\n",
              "      <td>40.0</td>\n",
              "      <td>1.4</td>\n",
              "      <td>0.2</td>\n",
              "      <td>Iris-setosa</td>\n",
              "    </tr>\n",
              "    <tr>\n",
              "      <th>1</th>\n",
              "      <td>55.0</td>\n",
              "      <td>100.0</td>\n",
              "      <td>1.4</td>\n",
              "      <td>0.2</td>\n",
              "      <td>Iris-setosa</td>\n",
              "    </tr>\n",
              "    <tr>\n",
              "      <th>15</th>\n",
              "      <td>5.7</td>\n",
              "      <td>4.4</td>\n",
              "      <td>1.5</td>\n",
              "      <td>0.4</td>\n",
              "      <td>Iris-setosa</td>\n",
              "    </tr>\n",
              "    <tr>\n",
              "      <th>32</th>\n",
              "      <td>5.2</td>\n",
              "      <td>4.1</td>\n",
              "      <td>1.5</td>\n",
              "      <td>0.1</td>\n",
              "      <td>Iris-setosa</td>\n",
              "    </tr>\n",
              "    <tr>\n",
              "      <th>33</th>\n",
              "      <td>5.5</td>\n",
              "      <td>4.2</td>\n",
              "      <td>1.4</td>\n",
              "      <td>0.2</td>\n",
              "      <td>Iris-setosa</td>\n",
              "    </tr>\n",
              "    <tr>\n",
              "      <th>60</th>\n",
              "      <td>5.0</td>\n",
              "      <td>2.0</td>\n",
              "      <td>3.5</td>\n",
              "      <td>1.0</td>\n",
              "      <td>Iris-versicolor</td>\n",
              "    </tr>\n",
              "  </tbody>\n",
              "</table>\n",
              "</div>"
            ],
            "text/plain": [
              "    꽃받침길이  꽃받침너비  꽃잎길이  꽃잎너비             붓꽃종류\n",
              "0    50.0   40.0   1.4   0.2      Iris-setosa\n",
              "1    55.0  100.0   1.4   0.2      Iris-setosa\n",
              "15    5.7    4.4   1.5   0.4      Iris-setosa\n",
              "32    5.2    4.1   1.5   0.1      Iris-setosa\n",
              "33    5.5    4.2   1.4   0.2      Iris-setosa\n",
              "60    5.0    2.0   3.5   1.0  Iris-versicolor"
            ]
          },
          "execution_count": 83,
          "metadata": {},
          "output_type": "execute_result"
        }
      ],
      "source": [
        "condition = (df > upper) | (df < lower)      # df가 upper 보다 크거나, df가 lower 보다 작은 데이터가 있는 경우 해당행에 True를 저장\n",
        "condition = condition.any(axis= 1)   # df 전체에서 열방향으로 조건값(df > upper) | (df < lower) 필터 수행\n",
        "outlier_df = df[condition]      # 조건값(최댓값 최솟값에 벗어나는 데이터)들만 outlier_df에 저장하기\n",
        "outlier_df\n"
      ]
    },
    {
      "cell_type": "code",
      "execution_count": 84,
      "metadata": {},
      "outputs": [
        {
          "data": {
            "text/plain": [
              "array([ 0,  1, 15, 32, 33, 60], dtype=int64)"
            ]
          },
          "execution_count": 84,
          "metadata": {},
          "output_type": "execute_result"
        }
      ],
      "source": [
        "outlier_index = df.loc[condition].index.values   # 조건에 맞는 index 값을 가지고 옴\n",
        "outlier_index      # 이상치가 있는 index값"
      ]
    },
    {
      "cell_type": "markdown",
      "metadata": {},
      "source": [
        "### 이상값 처리"
      ]
    },
    {
      "cell_type": "markdown",
      "metadata": {},
      "source": [
        "- 이상값에 대한 index를 구했으니, 이를 대체하거나 삭제하는 처리작업을 수행해야함"
      ]
    },
    {
      "cell_type": "markdown",
      "metadata": {},
      "source": [
        "- 이상값 제거"
      ]
    },
    {
      "cell_type": "code",
      "execution_count": 85,
      "metadata": {},
      "outputs": [],
      "source": [
        "df_new = df.drop(outlier_index)    # 이상값 index 행을 모두 제거"
      ]
    },
    {
      "cell_type": "code",
      "execution_count": 86,
      "metadata": {},
      "outputs": [
        {
          "data": {
            "text/html": [
              "<div>\n",
              "<style scoped>\n",
              "    .dataframe tbody tr th:only-of-type {\n",
              "        vertical-align: middle;\n",
              "    }\n",
              "\n",
              "    .dataframe tbody tr th {\n",
              "        vertical-align: top;\n",
              "    }\n",
              "\n",
              "    .dataframe thead th {\n",
              "        text-align: right;\n",
              "    }\n",
              "</style>\n",
              "<table border=\"1\" class=\"dataframe\">\n",
              "  <thead>\n",
              "    <tr style=\"text-align: right;\">\n",
              "      <th></th>\n",
              "      <th>꽃받침길이</th>\n",
              "      <th>꽃받침너비</th>\n",
              "      <th>꽃잎길이</th>\n",
              "      <th>꽃잎너비</th>\n",
              "      <th>붓꽃종류</th>\n",
              "    </tr>\n",
              "  </thead>\n",
              "  <tbody>\n",
              "    <tr>\n",
              "      <th>2</th>\n",
              "      <td>4.7</td>\n",
              "      <td>3.2</td>\n",
              "      <td>1.3</td>\n",
              "      <td>0.2</td>\n",
              "      <td>Iris-setosa</td>\n",
              "    </tr>\n",
              "    <tr>\n",
              "      <th>3</th>\n",
              "      <td>4.6</td>\n",
              "      <td>3.1</td>\n",
              "      <td>1.5</td>\n",
              "      <td>0.2</td>\n",
              "      <td>Iris-setosa</td>\n",
              "    </tr>\n",
              "    <tr>\n",
              "      <th>4</th>\n",
              "      <td>5.0</td>\n",
              "      <td>3.6</td>\n",
              "      <td>1.4</td>\n",
              "      <td>0.2</td>\n",
              "      <td>Iris-setosa</td>\n",
              "    </tr>\n",
              "    <tr>\n",
              "      <th>5</th>\n",
              "      <td>5.4</td>\n",
              "      <td>3.9</td>\n",
              "      <td>1.7</td>\n",
              "      <td>0.4</td>\n",
              "      <td>Iris-setosa</td>\n",
              "    </tr>\n",
              "    <tr>\n",
              "      <th>6</th>\n",
              "      <td>4.6</td>\n",
              "      <td>3.4</td>\n",
              "      <td>1.4</td>\n",
              "      <td>0.3</td>\n",
              "      <td>Iris-setosa</td>\n",
              "    </tr>\n",
              "    <tr>\n",
              "      <th>...</th>\n",
              "      <td>...</td>\n",
              "      <td>...</td>\n",
              "      <td>...</td>\n",
              "      <td>...</td>\n",
              "      <td>...</td>\n",
              "    </tr>\n",
              "    <tr>\n",
              "      <th>145</th>\n",
              "      <td>6.7</td>\n",
              "      <td>3.0</td>\n",
              "      <td>5.2</td>\n",
              "      <td>2.3</td>\n",
              "      <td>Iris-virginica</td>\n",
              "    </tr>\n",
              "    <tr>\n",
              "      <th>146</th>\n",
              "      <td>6.3</td>\n",
              "      <td>2.5</td>\n",
              "      <td>5.0</td>\n",
              "      <td>1.9</td>\n",
              "      <td>Iris-virginica</td>\n",
              "    </tr>\n",
              "    <tr>\n",
              "      <th>147</th>\n",
              "      <td>6.5</td>\n",
              "      <td>3.0</td>\n",
              "      <td>5.2</td>\n",
              "      <td>2.0</td>\n",
              "      <td>Iris-virginica</td>\n",
              "    </tr>\n",
              "    <tr>\n",
              "      <th>148</th>\n",
              "      <td>6.2</td>\n",
              "      <td>3.4</td>\n",
              "      <td>5.4</td>\n",
              "      <td>2.3</td>\n",
              "      <td>Iris-virginica</td>\n",
              "    </tr>\n",
              "    <tr>\n",
              "      <th>149</th>\n",
              "      <td>5.9</td>\n",
              "      <td>3.0</td>\n",
              "      <td>5.1</td>\n",
              "      <td>1.8</td>\n",
              "      <td>Iris-virginica</td>\n",
              "    </tr>\n",
              "  </tbody>\n",
              "</table>\n",
              "<p>144 rows × 5 columns</p>\n",
              "</div>"
            ],
            "text/plain": [
              "     꽃받침길이  꽃받침너비  꽃잎길이  꽃잎너비            붓꽃종류\n",
              "2      4.7    3.2   1.3   0.2     Iris-setosa\n",
              "3      4.6    3.1   1.5   0.2     Iris-setosa\n",
              "4      5.0    3.6   1.4   0.2     Iris-setosa\n",
              "5      5.4    3.9   1.7   0.4     Iris-setosa\n",
              "6      4.6    3.4   1.4   0.3     Iris-setosa\n",
              "..     ...    ...   ...   ...             ...\n",
              "145    6.7    3.0   5.2   2.3  Iris-virginica\n",
              "146    6.3    2.5   5.0   1.9  Iris-virginica\n",
              "147    6.5    3.0   5.2   2.0  Iris-virginica\n",
              "148    6.2    3.4   5.4   2.3  Iris-virginica\n",
              "149    5.9    3.0   5.1   1.8  Iris-virginica\n",
              "\n",
              "[144 rows x 5 columns]"
            ]
          },
          "execution_count": 86,
          "metadata": {},
          "output_type": "execute_result"
        }
      ],
      "source": [
        "df_new"
      ]
    }
  ],
  "metadata": {
    "colab": {
      "collapsed_sections": [],
      "name": "mising_data.ipynb",
      "provenance": []
    },
    "interpreter": {
      "hash": "1fbedc609bb5c09c978c8b03e12d2905c2c72dc27a42fdf42afb727c56bece85"
    },
    "kernelspec": {
      "display_name": "Python 3.9.4 64-bit",
      "language": "python",
      "name": "python3"
    },
    "language_info": {
      "codemirror_mode": {
        "name": "ipython",
        "version": 3
      },
      "file_extension": ".py",
      "mimetype": "text/x-python",
      "name": "python",
      "nbconvert_exporter": "python",
      "pygments_lexer": "ipython3",
      "version": "3.9.4"
    },
    "orig_nbformat": 4
  },
  "nbformat": 4,
  "nbformat_minor": 0
}
